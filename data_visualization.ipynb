{
 "cells": [
  {
   "cell_type": "markdown",
   "id": "7cca2b9f",
   "metadata": {},
   "source": [
    "This is for the data visualization on the  bcd dataset\n"
   ]
  },
  {
   "cell_type": "code",
   "execution_count": 1,
   "id": "698d6cea",
   "metadata": {},
   "outputs": [],
   "source": [
    "import numpy as np\n",
    "import pandas as pd\n",
    "import matplotlib.pyplot as plt\n",
    "import seaborn as sns\n",
    "from sklearn.preprocessing import LabelEncoder\n",
    "\n"
   ]
  },
  {
   "cell_type": "code",
   "execution_count": 2,
   "id": "bb8b1dbd",
   "metadata": {},
   "outputs": [],
   "source": [
    "bcd = pd.read_csv(\"data\\data.csv\")"
   ]
  },
  {
   "cell_type": "markdown",
   "id": "0c2ef6f9",
   "metadata": {},
   "source": [
    "EDA we have to do it here again\n"
   ]
  },
  {
   "cell_type": "code",
   "execution_count": null,
   "id": "ad6f616d",
   "metadata": {},
   "outputs": [],
   "source": [
    "bcd.drop(columns=\"Unnamed: 32\",axis =1,inplace=True)\n",
    "bcd.drop(columns=\"id\", axis =1,inplace=True)\n",
    "label_encode = LabelEncoder()\n",
    "\n",
    "labels = label_encode.fit_transform(bcd['diagnosis'])\n",
    "\n",
    "bcd['target'] = labels\n",
    "\n",
    "bcd.drop(columns=\"diagnosis\",axis =1,inplace=True)\n",
    "bcd.groupby('target').mean()\n"
   ]
  },
  {
   "cell_type": "code",
   "execution_count": null,
   "id": "4ec4a915",
   "metadata": {},
   "outputs": [],
   "source": []
  },
  {
   "cell_type": "code",
   "execution_count": null,
   "id": "47fee292",
   "metadata": {},
   "outputs": [],
   "source": []
  },
  {
   "cell_type": "code",
   "execution_count": null,
   "id": "e419b734",
   "metadata": {},
   "outputs": [],
   "source": []
  },
  {
   "cell_type": "code",
   "execution_count": null,
   "id": "5d37cc37",
   "metadata": {},
   "outputs": [],
   "source": []
  },
  {
   "cell_type": "code",
   "execution_count": null,
   "id": "4404fe4f",
   "metadata": {},
   "outputs": [],
   "source": []
  },
  {
   "cell_type": "code",
   "execution_count": null,
   "id": "512bcef5",
   "metadata": {},
   "outputs": [],
   "source": []
  },
  {
   "cell_type": "code",
   "execution_count": null,
   "id": "09f4b81e",
   "metadata": {},
   "outputs": [],
   "source": []
  },
  {
   "cell_type": "code",
   "execution_count": null,
   "id": "443afcaf",
   "metadata": {},
   "outputs": [],
   "source": []
  },
  {
   "cell_type": "code",
   "execution_count": null,
   "id": "5d2ee964",
   "metadata": {},
   "outputs": [],
   "source": []
  },
  {
   "cell_type": "code",
   "execution_count": null,
   "id": "93f0f861",
   "metadata": {},
   "outputs": [],
   "source": []
  },
  {
   "cell_type": "code",
   "execution_count": null,
   "id": "707f1010",
   "metadata": {},
   "outputs": [],
   "source": []
  },
  {
   "cell_type": "code",
   "execution_count": null,
   "id": "aadea3d6",
   "metadata": {},
   "outputs": [],
   "source": []
  },
  {
   "cell_type": "code",
   "execution_count": null,
   "id": "0fd11b12",
   "metadata": {},
   "outputs": [],
   "source": []
  }
 ],
 "metadata": {
  "kernelspec": {
   "display_name": "Python 3",
   "language": "python",
   "name": "python3"
  },
  "language_info": {
   "codemirror_mode": {
    "name": "ipython",
    "version": 3
   },
   "file_extension": ".py",
   "mimetype": "text/x-python",
   "name": "python",
   "nbconvert_exporter": "python",
   "pygments_lexer": "ipython3",
   "version": "3.11.1"
  }
 },
 "nbformat": 4,
 "nbformat_minor": 5
}
